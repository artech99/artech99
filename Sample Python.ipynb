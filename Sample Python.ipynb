{
 "cells": [
  {
   "cell_type": "markdown",
   "id": "562ea583-9574-42ef-9198-cbd8cde82e7d",
   "metadata": {},
   "source": [
    "<h1 style=\"font-size: 2rem; color: blue;\">Python Code Samples</h1>"
   ]
  },
  {
   "cell_type": "markdown",
   "id": "23904ecc-ea15-4e15-8954-7afd20b45226",
   "metadata": {},
   "source": [
    "<img src=\"https://media.licdn.com/dms/image/v2/D4E12AQEmbrN2OWZ-Cw/article-cover_image-shrink_720_1280/article-cover_image-shrink_720_1280/0/1702921154258?e=1730937600&v=beta&t=QDSVKqMH4hivDDcBUZK1REoEpTbIyx2_0uEZDSKdaOQ\" width=\"300\" height=\"200\">"
   ]
  },
  {
   "cell_type": "code",
   "execution_count": 15,
   "id": "a6b51742-f909-45fb-93df-92378d07f5fa",
   "metadata": {},
   "outputs": [
    {
     "data": {
      "text/plain": [
       "[1, 3, 2, 2, 5, 2, 2, 3, 4, 5]"
      ]
     },
     "execution_count": 15,
     "metadata": {},
     "output_type": "execute_result"
    }
   ],
   "source": [
    "# Import the random library and create a function which takes two arguments - a lower integer and a higher integer - and returns a list of 10 random numbers between 1 and 5\n",
    "import random\n",
    "\n",
    "numbers = []\n",
    "\n",
    "for i in range(10):\n",
    "\tnumbers.append(random.randint(1,5))\n",
    "\n",
    "numbers"
   ]
  },
  {
   "cell_type": "code",
   "execution_count": 17,
   "id": "443976a5-aa94-4859-9e99-9da510465f5f",
   "metadata": {},
   "outputs": [
    {
     "data": {
      "text/plain": [
       "[5, 3, 5, 1, 3, 1, 3, 4, 3, 2]"
      ]
     },
     "execution_count": 17,
     "metadata": {},
     "output_type": "execute_result"
    }
   ],
   "source": [
    "# streamline code using a list comprehension\n",
    "\n",
    "numbers = [random.randint(1,5) for i in range(10)]\n",
    "\n",
    "numbers"
   ]
  },
  {
   "cell_type": "code",
   "execution_count": 19,
   "id": "e2a5b13d-76a2-4ef7-817b-9df547461e94",
   "metadata": {},
   "outputs": [
    {
     "name": "stdout",
     "output_type": "stream",
     "text": [
      "1 fours found\n"
     ]
    },
    {
     "data": {
      "text/plain": [
       "[5, 3, 5, 1, 3, 1, 3, 4, 3, 2]"
      ]
     },
     "execution_count": 19,
     "metadata": {},
     "output_type": "execute_result"
    }
   ],
   "source": [
    "# Create a function to check if the number four is in the list\n",
    "\n",
    "if 4 in numbers:\n",
    "\tprint(f\"{numbers.count(4)} fours found\")\n",
    "else:\n",
    "\tprint(\"No fours found\")\n",
    "\t\n",
    "numbers"
   ]
  },
  {
   "cell_type": "code",
   "execution_count": 21,
   "id": "4f64bc89-ad3f-4be8-a88d-2e7cbcb69fe4",
   "metadata": {},
   "outputs": [
    {
     "data": {
      "text/plain": [
       "[1, 1, 2, 3, 3, 3, 3, 4, 5, 5]"
      ]
     },
     "execution_count": 21,
     "metadata": {},
     "output_type": "execute_result"
    }
   ],
   "source": [
    "# Sort the numbers in the list\n",
    "\n",
    "numbers.sort()\n",
    "\n",
    "numbers"
   ]
  },
  {
   "cell_type": "code",
   "execution_count": 23,
   "id": "93989046-4a99-4021-9d1f-e9f5e68310b3",
   "metadata": {},
   "outputs": [
    {
     "data": {
      "text/plain": [
       "[5, 5, 4, 3, 3, 3, 3, 2, 1, 1]"
      ]
     },
     "execution_count": 23,
     "metadata": {},
     "output_type": "execute_result"
    }
   ],
   "source": [
    "# Reverse the order of the numbers in the sorted list\n",
    "\n",
    "numbers.reverse()\n",
    "\n",
    "numbers"
   ]
  },
  {
   "cell_type": "code",
   "execution_count": 25,
   "id": "cea2d890-4ffc-41c3-968d-7e2158cc9f02",
   "metadata": {},
   "outputs": [
    {
     "name": "stdout",
     "output_type": "stream",
     "text": [
      "5\n",
      "[5, 4, 3, 3, 3, 3, 2, 1]\n",
      "1\n"
     ]
    }
   ],
   "source": [
    "# Assign the first item to the variable a, the middles items to the variable b, and the last item to the variable c.\n",
    "\n",
    "a, *b, c = numbers\n",
    "\n",
    "print(a)\n",
    "print(b)\n",
    "print(c)\n"
   ]
  },
  {
   "cell_type": "code",
   "execution_count": 27,
   "id": "5614b100-57b4-4234-84f7-8a05370eed26",
   "metadata": {},
   "outputs": [
    {
     "data": {
      "text/plain": [
       "{1, 2, 3, 4, 5}"
      ]
     },
     "execution_count": 27,
     "metadata": {},
     "output_type": "execute_result"
    }
   ],
   "source": [
    "# Cast numbers to a set and assign the result to the variable\n",
    "\n",
    "unique_numbers = set(numbers)\n",
    "\n",
    "unique_numbers"
   ]
  },
  {
   "cell_type": "code",
   "execution_count": 29,
   "id": "9312447d-f505-4cea-ba7c-1014cfb6f891",
   "metadata": {},
   "outputs": [],
   "source": [
    "# Create a dictionary for the numbers variable\n",
    "\n",
    "number_records = {'numbers': numbers,\n",
    "\t\t        'unique_numbers': unique_numbers}\n"
   ]
  },
  {
   "cell_type": "code",
   "execution_count": null,
   "id": "200b2661-0aec-46c8-b98b-dd3cdfd3929f",
   "metadata": {},
   "outputs": [],
   "source": []
  }
 ],
 "metadata": {
  "kernelspec": {
   "display_name": "Python 3 (ipykernel)",
   "language": "python",
   "name": "python3"
  },
  "language_info": {
   "codemirror_mode": {
    "name": "ipython",
    "version": 3
   },
   "file_extension": ".py",
   "mimetype": "text/x-python",
   "name": "python",
   "nbconvert_exporter": "python",
   "pygments_lexer": "ipython3",
   "version": "3.12.4"
  }
 },
 "nbformat": 4,
 "nbformat_minor": 5
}
